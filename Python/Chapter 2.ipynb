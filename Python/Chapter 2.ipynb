{
 "cells": [
  {
   "cell_type": "code",
   "execution_count": 0,
   "metadata": {
    "application/vnd.databricks.v1+cell": {
     "cellMetadata": {
      "byteLimit": 2048000,
      "rowLimit": 10000
     },
     "inputWidgets": {},
     "nuid": "48e7a057-cf3b-4bb3-962c-45d4638bc981",
     "showTitle": false,
     "tableResultSettingsMap": {},
     "title": ""
    }
   },
   "outputs": [],
   "source": [
    "# %pip install PyPI\n",
    "# dbutils.library.restartPython()\n",
    "# %pip install Cython\n",
    "# dbutils.library.restartPython()\n",
    "# %pip install NumPy\n",
    "# dbutils.library.restartPython()\n",
    "# %pip install cmdstanpy\n",
    "# dbutils.library.restartPython()\n",
    "# pip list\n",
    "\n",
    "import numpy as np\n",
    "import pandas as pd\n",
    "import matplotlib.pyplot as plt\n",
    "import random\n",
    "\n",
    "# 2.1 p.27\n",
    "ways = [0, 3, 8, 9, 0]\n",
    "[item / sum(ways) for item in ways]\n",
    "\n",
    "# 2.2 p.33\n",
    "from scipy.stats import binom\n",
    "binom.pmf(6, 9, 0.6667)\n",
    "\n",
    "###########################\n",
    "# Grid Approximation p.39 #\n",
    "###########################\n",
    "# 2.3 p.40\n",
    "# define grid\n",
    "p_grid = np.linspace(start=0, stop=1, num=20)\n",
    "# define prior\n",
    "prior = np.repeat(1, 20)\n",
    "# compute likelihood as each value in grid\n",
    "likelihood = binom.pmf(6, 9, p_grid)\n",
    "# compute product of likelihood and prior\n",
    "unstd_posterior = likelihood * prior\n",
    "# standardize the posterior, so it sums to 1\n",
    "posterior = unstd_posterior / sum(unstd_posterior)\n",
    "# 2.4 p.40\n",
    "plt.plot(p_grid, posterior, linestyle='-', marker='o')\n",
    "plt.xlabel('probability of water')\n",
    "plt.ylabel('posterior probability')\n",
    "plt.title('100 points')\n",
    "plt.show()\n",
    "# 2.5 p.40\n",
    "p_grid = np.linspace(start=0, stop=1, num=100)\n",
    "prior = np.where(p_grid < 0.5, 0, 1)\n",
    "likelihood = binom.pmf(6, 9, p_grid)\n",
    "unstd_posterior = likelihood * prior\n",
    "posterior = unstd_posterior / sum(unstd_posterior)\n",
    "plt.plot(p_grid, posterior, linestyle='-', marker='o')\n",
    "plt.xlabel('probability of water')\n",
    "plt.ylabel('posterior probability')\n",
    "plt.title('100 points')\n",
    "plt.show()\n",
    "p_grid = np.linspace(start=0, stop=1, num=100)\n",
    "prior = np.exp(-5 * abs(p_grid - 0.5 ))\n",
    "likelihood = binom.pmf(6, 9, p_grid)\n",
    "unstd_posterior = likelihood * prior\n",
    "posterior = unstd_posterior / sum(unstd_posterior)\n",
    "plt.plot(p_grid, posterior, linestyle='-', marker='o')\n",
    "plt.xlabel('probability of water')\n",
    "plt.ylabel('posterior probability')\n",
    "plt.title('100 points')\n",
    "plt.show()\n",
    "\n",
    "for row in posterior:\n",
    "  print(row)\n",
    "\n",
    "# Course Video https://www.youtube.com/watch?v=R1vcdhPBlXA\n",
    "# function to toss a globe covered p by water N times\n",
    "def sim_globe(p=0.7, N=9) : \n",
    "  return np.random.choice([\"W\",\"L\"], size=N, p=[p, 1-p])\n",
    "sim_globe()\n",
    "results = pd.DataFrame([sim_globe() for _ in range(10)]) # run 10 simulations\n",
    "display(results)\n",
    "# test your code\n",
    "sim_globe(p=1, N=11) # check that your code produces all water with probability of water equals 100%\n",
    "sum(np.array(sim_globe(p=0.5, N=int(1e4))) == \"W\") / 1e4 # check that your code produces simulated results of 50% water\n",
    "# function to compute posterior distribution\n",
    "def compute_posterior(the_sample, poss=[0, 0.25, 0.5, 0.75, 1]) : \n",
    "  the_sample = np.array(the_sample)\n",
    "  W = np.sum(the_sample == \"W\") # number of W observed\n",
    "  L = np.sum(the_sample == \"L\") # number of L observed\n",
    "  ways = np.array([((x*4)**W)*(((1-x)*4)**L) for x in poss])\n",
    "  post = ways/np.sum(ways)\n",
    "  df = pd.DataFrame({\"poss\":poss, \"ways\":ways.tolist(), \"post\":np.round(post,3)})\n",
    "  return df\n",
    "print(compute_posterior(sim_globe()))"
   ]
  },
  {
   "cell_type": "code",
   "execution_count": 0,
   "metadata": {
    "application/vnd.databricks.v1+cell": {
     "cellMetadata": {},
     "inputWidgets": {},
     "nuid": "ae62c587-04f0-4219-ac75-0196e551beeb",
     "showTitle": false,
     "tableResultSettingsMap": {},
     "title": ""
    }
   },
   "outputs": [],
   "source": []
  }
 ],
 "metadata": {
  "application/vnd.databricks.v1+notebook": {
   "computePreferences": null,
   "dashboards": [],
   "environmentMetadata": {
    "base_environment": "",
    "environment_version": "3"
   },
   "inputWidgetPreferences": null,
   "language": "python",
   "notebookMetadata": {
    "mostRecentlyExecutedCommandWithImplicitDF": {
     "commandId": -1,
     "dataframes": [
      "_sqldf"
     ]
    },
    "pythonIndentUnit": 4
   },
   "notebookName": "Chapter 2",
   "widgets": {}
  },
  "language_info": {
   "name": "python"
  }
 },
 "nbformat": 4,
 "nbformat_minor": 0
}
