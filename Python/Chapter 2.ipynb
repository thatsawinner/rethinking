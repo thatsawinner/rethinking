{
 "cells": [
  {
   "cell_type": "code",
   "execution_count": 0,
   "metadata": {
    "application/vnd.databricks.v1+cell": {
     "cellMetadata": {
      "byteLimit": 2048000,
      "rowLimit": 10000
     },
     "inputWidgets": {},
     "nuid": "48e7a057-cf3b-4bb3-962c-45d4638bc981",
     "showTitle": false,
     "tableResultSettingsMap": {},
     "title": ""
    }
   },
   "outputs": [],
   "source": [
    "# %pip install PyPI\n",
    "# dbutils.library.restartPython()\n",
    "# %pip install Cython\n",
    "# dbutils.library.restartPython()\n",
    "# %pip install NumPy\n",
    "# dbutils.library.restartPython()\n",
    "# %pip install cmdstanpy\n",
    "# dbutils.library.restartPython()\n",
    "# pip list\n",
    "\n",
    "# 2.1 p.27\n",
    "ways = [0, 3, 8, 9, 0]\n",
    "[item / sum(ways) for item in ways]\n",
    "\n",
    "# 2.2 p.33\n",
    "from scipy.stats import binom\n",
    "binom.pmf(6, 9, 0.6667)"
   ]
  }
 ],
 "metadata": {
  "application/vnd.databricks.v1+notebook": {
   "computePreferences": null,
   "dashboards": [],
   "environmentMetadata": {
    "base_environment": "",
    "environment_version": "3"
   },
   "inputWidgetPreferences": null,
   "language": "python",
   "notebookMetadata": {
    "mostRecentlyExecutedCommandWithImplicitDF": {
     "commandId": -1,
     "dataframes": [
      "_sqldf"
     ]
    },
    "pythonIndentUnit": 4
   },
   "notebookName": "Chapter 2",
   "widgets": {}
  },
  "language_info": {
   "name": "python"
  }
 },
 "nbformat": 4,
 "nbformat_minor": 0
}
